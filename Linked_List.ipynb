{
  "nbformat": 4,
  "nbformat_minor": 0,
  "metadata": {
    "colab": {
      "provenance": [],
      "authorship_tag": "ABX9TyOS/d4USSZ+/RpVvUCU20Bx",
      "include_colab_link": true
    },
    "kernelspec": {
      "name": "python3",
      "display_name": "Python 3"
    },
    "language_info": {
      "name": "python"
    }
  },
  "cells": [
    {
      "cell_type": "markdown",
      "metadata": {
        "id": "view-in-github",
        "colab_type": "text"
      },
      "source": [
        "<a href=\"https://colab.research.google.com/github/40116341054041/Linked_List/blob/main/Linked_List.ipynb\" target=\"_parent\"><img src=\"https://colab.research.google.com/assets/colab-badge.svg\" alt=\"Open In Colab\"/></a>"
      ]
    },
    {
      "cell_type": "code",
      "execution_count": null,
      "metadata": {
        "id": "bUgJONA7hoB-"
      },
      "outputs": [],
      "source": [
        "class node:\n",
        "  def __init__(self,d):\n",
        "    self.data = d\n",
        "    self.next = None\n",
        "\n",
        "class linked_list:\n",
        "  def __init__(self):\n",
        "    t = node()\n",
        "    t = self.head\n",
        "    while (t!=None):\n",
        "      print(t.data , end=\"-->\")\n",
        "      t = t.next\n",
        "    print(\"None\")\n",
        "\n",
        "#تابع اضافه کردن به ابتدای لیست\n",
        "def add_in_start(self , data):\n",
        "  n = node(data)\n",
        "  n.next = self.head\n",
        "  self.head = n\n",
        "\n",
        "#تابع اضافه کردن به آخر لیست\n",
        "def add_in_end(self , data):\n",
        "  n = node(data)\n",
        "  t = self.head\n",
        "  if t == None:\n",
        "    self.head = n\n",
        "  else:\n",
        "    while (t.next != None):\n",
        "      t = t.next\n",
        "  t.next = n\n",
        "\n",
        "#تابع اضافه کرد به وسط لیست\n",
        "def add_in_middle(self , m , d):\n",
        "  n = node(d)\n",
        "  t = self.head\n",
        "  while(t.data != m):\n",
        "    t = t.next\n",
        "  n.next = t.next\n",
        "  t.next = n\n",
        "\n",
        "#پاک کردن اول لیست\n",
        "def del_first(self):\n",
        "  if self.head == None:\n",
        "    return 'empty'\n",
        "  else:\n",
        "    self.head = self.head.next\n",
        "\n",
        "#پاک کردن از آخر لیست\n",
        "def del_last(self):\n",
        "  t=self.head\n",
        "  if t == None:\n",
        "    return 'empty'\n",
        "  elif t.next == None:\n",
        "    t = self.t\n",
        "    while(t.next.next != None):\n",
        "      t = t.next\n",
        "    t.next = None\n",
        "\n",
        "#پاک کردن از وسط لیست\n",
        "def del_middle(self , m):\n",
        "  t = self.head\n",
        "  while(t.data != m):\n",
        "    t = t.next\n",
        "  t.next = t.next.next\n",
        "\n",
        "\n",
        "\n",
        "\n"
      ]
    }
  ]
}